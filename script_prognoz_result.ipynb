{
  "nbformat": 4,
  "nbformat_minor": 0,
  "metadata": {
    "colab": {
      "provenance": []
    },
    "kernelspec": {
      "name": "python3",
      "display_name": "Python 3"
    },
    "language_info": {
      "name": "python"
    }
  },
  "cells": [
    {
      "cell_type": "markdown",
      "source": [
        "# Импортируем библиотеки"
      ],
      "metadata": {
        "id": "fz0R0nBdz4FY"
      }
    },
    {
      "cell_type": "code",
      "source": [
        "import pandas as pd\n",
        "import joblib\n",
        "import os"
      ],
      "metadata": {
        "id": "8Z54Hqs2uQSY"
      },
      "execution_count": 12,
      "outputs": []
    },
    {
      "cell_type": "markdown",
      "source": [
        "# Определяем директорию и пути до файлов"
      ],
      "metadata": {
        "id": "vAeb-ib75ugF"
      }
    },
    {
      "cell_type": "code",
      "source": [
        "current_dir = os.getcwd()\n",
        "test_filtered_path = os.path.join(current_dir, 'test_filtered.csv')\n",
        "xgb_model_path = os.path.join(current_dir, 'xgb_model.pkl')\n",
        "submission_path = os.path.join(current_dir, 'submission.csv')"
      ],
      "metadata": {
        "id": "ITlroqEI4y3d"
      },
      "execution_count": 13,
      "outputs": []
    },
    {
      "cell_type": "markdown",
      "source": [
        "# Загружаем наши признаки и нашу обученую модель"
      ],
      "metadata": {
        "id": "h-OnT5ehz9y5"
      }
    },
    {
      "cell_type": "code",
      "source": [
        "test_filtered= pd.read_csv(test_filtered_path)"
      ],
      "metadata": {
        "id": "1FnzDoWLuILj"
      },
      "execution_count": 14,
      "outputs": []
    },
    {
      "cell_type": "code",
      "source": [
        "xgb_model = joblib.load(xgb_model_path)"
      ],
      "metadata": {
        "id": "U_95zkfNunSR"
      },
      "execution_count": 15,
      "outputs": []
    },
    {
      "cell_type": "markdown",
      "source": [
        "# Прогнозируем"
      ],
      "metadata": {
        "id": "YiX1mtMZ0DWx"
      }
    },
    {
      "cell_type": "code",
      "source": [
        "Xtest = test_filtered.values\n",
        "yhat_test_proba_xgb = xgb_model.predict_proba(Xtest)\n",
        "yhat_test_proba_xgb"
      ],
      "metadata": {
        "colab": {
          "base_uri": "https://localhost:8080/"
        },
        "id": "O_q3kHYRuvOo",
        "outputId": "2fffa35e-3a37-469b-f8b8-56262f03117d"
      },
      "execution_count": 16,
      "outputs": [
        {
          "output_type": "execute_result",
          "data": {
            "text/plain": [
              "array([[0.65243113, 0.3475689 ],\n",
              "       [0.8797641 , 0.12023594],\n",
              "       [0.5235183 , 0.47648165],\n",
              "       ...,\n",
              "       [0.9474134 , 0.05258663],\n",
              "       [0.87108266, 0.1289173 ],\n",
              "       [0.93155456, 0.06844544]], dtype=float32)"
            ]
          },
          "metadata": {},
          "execution_count": 16
        }
      ]
    },
    {
      "cell_type": "markdown",
      "source": [
        "# Сохраняем результат в submission.csv"
      ],
      "metadata": {
        "id": "ShF429k90Hcv"
      }
    },
    {
      "cell_type": "code",
      "execution_count": 17,
      "metadata": {
        "id": "h3vq026RtbJl"
      },
      "outputs": [],
      "source": [
        "ids = test_filtered['id'].values\n",
        "proba = yhat_test_proba_xgb[:, 1]\n",
        "\n",
        "submission_df = pd.DataFrame({\n",
        "    'id': ids,\n",
        "    'score': proba\n",
        "})\n",
        "\n",
        "submission_df.to_csv(submission_path, index=False)"
      ]
    }
  ]
}